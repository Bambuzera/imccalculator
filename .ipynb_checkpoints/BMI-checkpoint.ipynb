{
 "cells": [
  {
   "cell_type": "markdown",
   "metadata": {},
   "source": [
    "# BMI Calculator"
   ]
  },
  {
   "cell_type": "markdown",
   "metadata": {},
   "source": [
    "## Importing"
   ]
  },
  {
   "cell_type": "code",
   "execution_count": 1,
   "metadata": {},
   "outputs": [],
   "source": [
    "import tkinter as tk"
   ]
  },
  {
   "cell_type": "markdown",
   "metadata": {},
   "source": [
    "## Function"
   ]
  },
  {
   "cell_type": "code",
   "execution_count": 13,
   "metadata": {},
   "outputs": [],
   "source": [
    "def calc_bmi():\n",
    "    height = getheight.get()\n",
    "    weight = getweight.get()\n",
    "    height = float(height)\n",
    "    weight = float(weight)\n",
    "    BMI = weight / ((height / 100) ** 2)\n",
    "    result1 = (f\"Your BMI is: {BMI:.2f}\")  # rounding 2 cases\n",
    "    \n",
    "    result.config(text=result1)  # refresh text in label"
   ]
  },
  {
   "cell_type": "markdown",
   "metadata": {},
   "source": [
    "## Window"
   ]
  },
  {
   "cell_type": "code",
   "execution_count": 12,
   "metadata": {},
   "outputs": [],
   "source": [
    "window = tk.Tk()  # Corrigido para tk.Tk() - 'Tk' deve ser com \"t\" minúsculo\n",
    "window.geometry(\"400x300\")\n",
    "\n",
    "window.title(\"Body Mass Index Calculator\")\n",
    "txt_instruction = tk.Label(window, text=\"Enter your data below:\")\n",
    "txt_instruction.grid(column=5, row=0, padx=10, pady=10)\n",
    "\n",
    "txt_height = tk.Label(window, text=\"Enter your height in cm:\")\n",
    "txt_height.grid(column=4, row=5)\n",
    "getheight = tk.Entry(window, width=20)\n",
    "getheight.grid(column=5, row=5, padx=10, pady=10)\n",
    "\n",
    "txt_weight = tk.Label(window, text=\"Enter your weight in Kg:\")\n",
    "txt_weight.grid(column=4, row=10)\n",
    "getweight = tk.Entry(window, width=20)\n",
    "getweight.grid(column=5, row=10, padx=10, pady=10)\n",
    "\n",
    "button = tk.Button(window, text=\"Calculate\", command=calcimc)\n",
    "button.grid(column=5, row=15, padx=10, pady=10)\n",
    "\n",
    "result = tk.Label(window, text=\"\")\n",
    "result.grid(column=5, row=20, padx=10, pady=10)\n",
    "\n",
    "window.mainloop()"
   ]
  }
 ],
 "metadata": {
  "kernelspec": {
   "display_name": ".venv",
   "language": "python",
   "name": "python3"
  },
  "language_info": {
   "codemirror_mode": {
    "name": "ipython",
    "version": 3
   },
   "file_extension": ".py",
   "mimetype": "text/x-python",
   "name": "python",
   "nbconvert_exporter": "python",
   "pygments_lexer": "ipython3",
   "version": "3.11.3"
  }
 },
 "nbformat": 4,
 "nbformat_minor": 2
}
